{
 "cells": [
  {
   "cell_type": "code",
   "execution_count": null,
   "metadata": {
    "ExecuteTime": {
     "end_time": "2018-05-11T08:38:00.737670Z",
     "start_time": "2018-05-11T08:37:59.378855Z"
    },
    "collapsed": true,
    "extensions": {
     "jupyter_dashboards": {
      "version": 1,
      "views": {
       "grid_default": {
        "hidden": true
       },
       "report_default": {
        "hidden": true
       }
      }
     }
    }
   },
   "outputs": [],
   "source": [
    "import pandas as pd\n",
    "import numpy as np\n",
    "import matplotlib.pyplot as plt\n",
    "import matplotlib.dates as mdates\n",
    "\n",
    "from datetime import datetime, timedelta\n",
    "import os\n",
    "\n",
    "%matplotlib notebook"
   ]
  },
  {
   "cell_type": "code",
   "execution_count": null,
   "metadata": {
    "ExecuteTime": {
     "end_time": "2018-05-11T08:38:00.747676Z",
     "start_time": "2018-05-11T08:38:00.744674Z"
    },
    "collapsed": true,
    "extensions": {
     "jupyter_dashboards": {
      "version": 1,
      "views": {
       "grid_default": {
        "hidden": true
       },
       "report_default": {
        "hidden": true
       }
      }
     }
    }
   },
   "outputs": [],
   "source": [
    "import pprint\n",
    "pp = pprint.PrettyPrinter(indent=4)"
   ]
  },
  {
   "cell_type": "code",
   "execution_count": null,
   "metadata": {
    "ExecuteTime": {
     "end_time": "2018-05-11T08:38:00.936790Z",
     "start_time": "2018-05-11T08:38:00.748677Z"
    },
    "collapsed": true,
    "extensions": {
     "jupyter_dashboards": {
      "version": 1,
      "views": {
       "grid_default": {
        "hidden": true
       },
       "report_default": {
        "hidden": true
       }
      }
     }
    }
   },
   "outputs": [],
   "source": [
    "from bs4 import BeautifulSoup"
   ]
  },
  {
   "cell_type": "code",
   "execution_count": null,
   "metadata": {
    "ExecuteTime": {
     "end_time": "2018-05-11T08:39:31.643181Z",
     "start_time": "2018-05-11T08:39:31.640179Z"
    },
    "collapsed": true,
    "extensions": {
     "jupyter_dashboards": {
      "version": 1,
      "views": {
       "grid_default": {
        "hidden": true
       },
       "report_default": {
        "hidden": true
       }
      }
     }
    }
   },
   "outputs": [],
   "source": [
    "# directory = 'outbound'\n",
    "directory = 'return'"
   ]
  },
  {
   "cell_type": "code",
   "execution_count": null,
   "metadata": {
    "ExecuteTime": {
     "end_time": "2018-05-11T08:45:48.880184Z",
     "start_time": "2018-05-11T08:45:46.801353Z"
    },
    "code_folding": [
     0
    ],
    "collapsed": true,
    "extensions": {
     "jupyter_dashboards": {
      "version": 1,
      "views": {
       "grid_default": {
        "col": 0,
        "height": 5,
        "hidden": true,
        "row": 0,
        "width": 4
       },
       "report_default": {
        "hidden": true
       }
      }
     }
    }
   },
   "outputs": [],
   "source": [
    "### Main Processsing Code\n",
    "\n",
    "\n",
    "main_origins = set()\n",
    "main_destinations = set()\n",
    "\n",
    "\n",
    "df = pd.DataFrame()\n",
    "\n",
    "## Loop over HTML files, convert to DataFrame\n",
    "for fn in os.listdir(directory):\n",
    "    if fn[-5:] == '.html':\n",
    "        # print(fn)\n",
    "        \n",
    "        fullpath = os.path.join(directory, fn)\n",
    "        \n",
    "        temp_df = pd.read_html(fullpath, attrs={'id': 'flightsOut'})[0]\n",
    "        temp_df.columns = range(len(temp_df.columns))\n",
    "        \n",
    "        df = df.append(temp_df, ignore_index=True)\n",
    "\n",
    "        \n",
    "        # Get Origin / Destination from HTML\n",
    "        with open(fullpath, 'rb') as html:\n",
    "            soup = BeautifulSoup(html, 'lxml')\n",
    "\n",
    "            origin = soup.find(id=\"fromAirport\").get_attribute_list('value')[0]\n",
    "            destination = soup.find(id=\"toAirport\").get_attribute_list('value')[0]\n",
    "            \n",
    "            \n",
    "            main_origins.add(origin)\n",
    "            main_destinations.add(destination)\n",
    "\n",
    "# print(df.head())\n",
    "\n",
    "# for c in df.columns:\n",
    "#     print(c)\n",
    "    \n",
    "# Rename columns            \n",
    "columns = ['Select', 'Flight', 'From', 'To', 'Departure Date', 'Departure Time', 'Arrival Date', 'Arrival Time', \n",
    "          'Aircraft', 'Delta One', 'First Class', 'Premium Select', 'Comfort+', 'Main Cabin',\n",
    "          'Total_Avail','B']\n",
    "\n",
    "df.columns = columns + ['_'] * (len(df.columns) - len(columns))\n",
    "\n",
    "# print('Origins:', main_origins)\n",
    "# print('Destinations:', main_destinations)\n",
    "\n",
    "\n",
    "## Parse Raw DataFrame\n",
    "parsed_df = df[['From', 'To', 'Aircraft']].copy()\n",
    "\n",
    "\n",
    "k = 0\n",
    "for n, row in df.iterrows():\n",
    "    \n",
    "    # Group flights by route\n",
    "    if row['From'] in main_origins:\n",
    "        k += 1\n",
    "    \n",
    "    parsed_df.loc[n, 'Group'] = k\n",
    "#     parsed_df.loc[n, 'flight_num'] = row['Flight'].split()[0]\n",
    "    parsed_df.loc[n, 'flight_num'] = int(''.join(c for c in str(row['Flight']) if c.isdigit()))\n",
    "    \n",
    "    \n",
    "    # Combine departure date/time\n",
    "    datetime_object = datetime.strptime('{} 2017 {}'.format(row['Departure Date'], row['Departure Time']), '%d%b %Y %I:%M%p')\n",
    "    parsed_df.loc[n, 'dep_datetime'] = datetime_object\n",
    "    parsed_df.loc[n, 'dep_date'] = row['Departure Date']\n",
    "    \n",
    "    # Combine Arrival date/time\n",
    "    datetime_object = datetime.strptime('{} 2017 {}'.format(row['Arrival Date'], row['Arrival Time']), '%d%b %Y %I:%M%p')\n",
    "    parsed_df.loc[n, 'arr_datetime'] = datetime_object\n",
    "    \n",
    "    # Combine total available seats\n",
    "    total_seats = {'av': 0, 'au':0, 'cap':0}\n",
    "    \n",
    "#     for label, col in zip(['business', 'first', 'main'], ['BusinessAv/Au(Cap)', 'First ClassAv/Au(Cap)', 'Main CabinAv/Au(Cap)']):\n",
    "    for label, col in zip(['one', 'first', 'select', 'comfort', 'main'], ['Delta One', 'First Class', 'Premium Select', 'Comfort+', 'Main Cabin']):\n",
    "        if isinstance(row[col], str):\n",
    "            if '/' in row[col]:\n",
    "                av, temp = row[col].split('/')\n",
    "                au, temp2 = temp.split('(')\n",
    "                cap = temp2.replace(')', '')\n",
    "\n",
    "                seats = {'av': int(av), 'au':int(au), 'cap':int(cap)}\n",
    "\n",
    "                for key in ['av', 'au', 'cap']:\n",
    "                    total_seats[key] = total_seats[key] + seats[key]\n",
    "\n",
    "    for key in ['av', 'au', 'cap']:\n",
    "        parsed_df.loc[n, 'total_{}'.format(key)] = total_seats[key]\n",
    "\n",
    "\n",
    "## Remove routes with more than one layover\n",
    "single_stop_df = pd.DataFrame()\n",
    "\n",
    "for n, group in parsed_df.groupby('Group'):\n",
    "    if group.shape[0] <= 2:\n",
    "        single_stop_df = single_stop_df.append(group)\n",
    "        \n",
    "parsed_df = single_stop_df\n",
    "\n",
    "\n",
    "## Create set of layover options\n",
    "origins = set({})\n",
    "destinations = set({})\n",
    "layovers = set([])\n",
    "\n",
    "for r, row in parsed_df.iterrows():\n",
    "    origins.add(row.From)\n",
    "    destinations.add(row.To)\n",
    "    \n",
    "    if row.From in main_origins:\n",
    "        layovers.add(row.To)\n",
    "    \n",
    "    if row.To in main_destinations:\n",
    "        layovers.add(row.From)\n",
    "        \n",
    "# print(origins, destinations, layovers)\n",
    "\n",
    "pd.read_html(fullpath, attrs={'id': 'flightsOut'})\n",
    "## Reduce dataframe to only unique flights\n",
    "dedup_df = parsed_df.drop_duplicates(['flight_num', 'dep_date'])"
   ]
  },
  {
   "cell_type": "code",
   "execution_count": null,
   "metadata": {
    "ExecuteTime": {
     "end_time": "2018-05-11T08:45:50.552853Z",
     "start_time": "2018-05-11T08:45:50.549852Z"
    }
   },
   "outputs": [],
   "source": [
    "parsed_df.columns"
   ]
  },
  {
   "cell_type": "code",
   "execution_count": null,
   "metadata": {
    "ExecuteTime": {
     "end_time": "2018-05-11T08:45:51.545250Z",
     "start_time": "2018-05-11T08:45:51.523241Z"
    }
   },
   "outputs": [],
   "source": [
    "df.head()"
   ]
  },
  {
   "cell_type": "code",
   "execution_count": null,
   "metadata": {
    "ExecuteTime": {
     "end_time": "2018-05-11T08:45:51.969420Z",
     "start_time": "2018-05-11T08:45:51.946410Z"
    },
    "code_folding": [
     0,
     21
    ],
    "collapsed": true,
    "extensions": {
     "jupyter_dashboards": {
      "version": 1,
      "views": {
       "grid_default": {
        "hidden": true
       },
       "report_default": {
        "hidden": true
       }
      }
     }
    }
   },
   "outputs": [],
   "source": [
    "def find_first_last(all_flights, selected_origins, selected_layovers, selected_destinations):\n",
    "    first_flights = pd.DataFrame()\n",
    "\n",
    "    for n, flight in all_flights.iterrows():\n",
    "        if flight.From in selected_origins and flight.To in selected_layovers:\n",
    "            first_flights = first_flights.append(flight, ignore_index=True)\n",
    "\n",
    "    if first_flights.shape[0] > 0:\n",
    "        first_flights = first_flights.sort_values('dep_datetime')\n",
    "\n",
    "    last_flights = pd.DataFrame()\n",
    "\n",
    "    for n, flight in all_flights.iterrows():\n",
    "        if flight.From in selected_layovers and flight.To in selected_destinations:\n",
    "            last_flights = last_flights.append(flight, ignore_index=True)\n",
    "\n",
    "    if last_flights.shape[0] > 0:\n",
    "        last_flights = last_flights.sort_values('arr_datetime')\n",
    "    \n",
    "    return first_flights, last_flights\n",
    "\n",
    "def plot_flight(flight, line_count, ax, c='c'):\n",
    "    \n",
    "    plt.plot([flight.dep_datetime, flight.arr_datetime], [line_count, line_count], '-', c=c, linewidth=max(1,flight.total_av/2), solid_capstyle='butt')\n",
    "    \n",
    "    dep_str = '{} {}'.format(flight.dep_datetime.strftime('%I:%M%p'), flight.From)\n",
    "    arr_str = '{} {}'.format(flight.To, flight.arr_datetime.strftime('%I:%M%p'))\n",
    "    \n",
    "    t = ax.text(flight.dep_datetime, line_count, dep_str+'->'+arr_str, ha=\"left\", va=\"bottom\")\n",
    "    #     t = ax.text(flight.arr_datetime, line_count, arr_str, ha=\"center\", va=\"bottom\")\n",
    "    \n",
    "    desc_str = 'FN: {}, Av: {}'.format(int(flight.flight_num), flight.total_av)\n",
    "    t = ax.text(flight.arr_datetime, line_count, desc_str, ha=\"right\", va=\"top\")"
   ]
  },
  {
   "cell_type": "code",
   "execution_count": null,
   "metadata": {
    "ExecuteTime": {
     "end_time": "2018-05-11T08:45:52.388587Z",
     "start_time": "2018-05-11T08:45:52.282545Z"
    },
    "code_folding": [
     0,
     57
    ],
    "collapsed": true,
    "extensions": {
     "jupyter_dashboards": {
      "version": 1,
      "views": {
       "grid_default": {
        "hidden": true
       },
       "report_default": {
        "hidden": true
       }
      }
     }
    }
   },
   "outputs": [],
   "source": [
    "def plot_origin(all_flights, first_flights, selected_destinations, fig=None):\n",
    "    ### Origin Flights first\n",
    "    if fig is None:\n",
    "        fig = plt.figure()\n",
    "    else:\n",
    "        fig.clf()\n",
    "\n",
    "    ax = plt.gca()\n",
    "\n",
    "    myFmt = mdates.DateFormatter('%m-%d %I:%M%p')\n",
    "    ax.xaxis.set_major_formatter(myFmt)\n",
    "    labels = ax.get_xticklabels()\n",
    "    plt.setp(labels, rotation=30, fontsize=8)\n",
    "    \n",
    "\n",
    "\n",
    "    line_count = 1\n",
    "    for n, flight in first_flights.iterrows():\n",
    "        \n",
    "        conn_flights = []\n",
    "\n",
    "        connections = all_flights[all_flights.From == flight.To]\n",
    "        connections = connections[connections.dep_datetime >= flight.arr_datetime + timedelta(minutes=25)].sort_values('dep_datetime')\n",
    "\n",
    "        for n, conn_flight in connections.iterrows():            \n",
    "            if conn_flight.To in selected_destinations:\n",
    "                conn_flights.append(conn_flight)\n",
    "                \n",
    "        \n",
    "        if len(conn_flights) > 0:\n",
    "                \n",
    "            plot_flight(flight, line_count, ax)\n",
    "            line_count += 1\n",
    "            \n",
    "            for conn_flight in conn_flights:\n",
    "                plot_flight(conn_flight, line_count, ax, c='y')\n",
    "                line_count += 1\n",
    "\n",
    "    fig.set_size_inches(13, line_count*0.4+1)\n",
    "\n",
    "    plt.grid()\n",
    "\n",
    "    ax2 = ax.twiny()\n",
    "    ax2.set_xlim(ax.get_xlim())\n",
    "    ax2.xaxis.set_major_formatter(myFmt)\n",
    "    ax2.xaxis.set_ticks(ax.get_xticks())\n",
    "    labels = ax2.get_xticklabels()\n",
    "    plt.setp(labels, rotation=30, fontsize=8)\n",
    "\n",
    "    try:\n",
    "        plt.tight_layout()\n",
    "    except ValueError:\n",
    "        pass\n",
    "    \n",
    "    plt.ylim([line_count,0])\n",
    "    \n",
    "\n",
    "def plot_destination(all_flights, last_flights, selected_origins, fig=None):\n",
    "    ### Destination Flights first\n",
    "   \n",
    "    if fig is None:\n",
    "        fig = plt.figure()\n",
    "    else:\n",
    "        fig.clf()\n",
    "\n",
    "    ax = plt.gca()\n",
    "\n",
    "    myFmt = mdates.DateFormatter('%m-%d %I:%M%p')\n",
    "    ax.xaxis.set_major_formatter(myFmt)\n",
    "    labels = ax.get_xticklabels()\n",
    "    plt.setp(labels, rotation=30, fontsize=12)\n",
    "\n",
    "    line_count = 1\n",
    "    k=0\n",
    "\n",
    "    for n, flight in last_flights.iterrows():\n",
    "        \n",
    "        connection_found=False\n",
    "\n",
    "        connections = all_flights[all_flights.To == flight.From]\n",
    "        connections = connections[connections.arr_datetime <= flight.dep_datetime - timedelta(minutes=25)].sort_values('dep_datetime')\n",
    "\n",
    "        for n, conn_flight in connections.iterrows():\n",
    "\n",
    "            if conn_flight.From in selected_origins:\n",
    "                plot_flight(conn_flight, line_count, ax, c='c')\n",
    "\n",
    "                line_count += 1\n",
    "                connection_found = True\n",
    "\n",
    "        if connection_found:\n",
    "\n",
    "            plot_flight(flight, line_count, ax, c='y')\n",
    "            line_count += 1\n",
    "\n",
    "    fig.set_size_inches(13, line_count*0.4+1)\n",
    "    plt.grid()\n",
    "    \n",
    "    ax2 = ax.twiny()\n",
    "    ax2.set_xlim(ax.get_xlim())\n",
    "    ax2.xaxis.set_major_formatter(myFmt)\n",
    "    ax2.xaxis.set_ticks(ax.get_xticks())\n",
    "    labels = ax2.get_xticklabels()\n",
    "    plt.setp(labels, rotation=30, fontsize=8)\n",
    "    \n",
    "    try:\n",
    "        plt.tight_layout()\n",
    "    except ValueError:\n",
    "        pass\n",
    "\n",
    "    plt.ylim([line_count,0])"
   ]
  },
  {
   "cell_type": "code",
   "execution_count": null,
   "metadata": {
    "ExecuteTime": {
     "end_time": "2018-05-11T08:45:52.781744Z",
     "start_time": "2018-05-11T08:45:52.773741Z"
    },
    "code_folding": [
     0
    ],
    "collapsed": true,
    "extensions": {
     "jupyter_dashboards": {
      "version": 1,
      "views": {
       "grid_default": {
        "hidden": true
       },
       "report_default": {
        "hidden": true
       }
      }
     }
    }
   },
   "outputs": [],
   "source": [
    "def make_date_sliders(start,end,freq='D',fmt='%Y-%m-%d', disp_fmt='%Y-%m-%d'):\n",
    "        \"\"\"\n",
    "        Parameters\n",
    "        ----------\n",
    "        start : string or datetime-like\n",
    "            Left bound of the period\n",
    "        end : string or datetime-like\n",
    "            Left bound of the period\n",
    "        freq : string or pandas.DateOffset, default='D'\n",
    "            Frequency strings can have multiples, e.g. '5H' \n",
    "        fmt : string, defauly = '%Y-%m-%d'\n",
    "            Format to use to display the selected period\n",
    "\n",
    "        \"\"\"\n",
    "        date_range=pd.date_range(start=start,end=end,freq=freq)\n",
    "        \n",
    "        options = [(item.strftime(disp_fmt),item) for item in date_range]\n",
    "        \n",
    "        slider_start = widgets.SelectionSlider(\n",
    "            description='start',\n",
    "            options=options,\n",
    "            continuous_update=False,\n",
    "            layout=widgets.Layout(width='600px')\n",
    "        )\n",
    "        \n",
    "        slider_end = widgets.SelectionSlider(\n",
    "            description='end',\n",
    "            options=options,\n",
    "            continuous_update=False,\n",
    "            value=options[-1][1],\n",
    "            layout=widgets.Layout(width='600px')\n",
    "        )\n",
    "        return slider_start, slider_end"
   ]
  },
  {
   "cell_type": "code",
   "execution_count": null,
   "metadata": {
    "ExecuteTime": {
     "end_time": "2018-05-11T08:45:53.082865Z",
     "start_time": "2018-05-11T08:45:53.051852Z"
    }
   },
   "outputs": [],
   "source": [
    "dedup_df"
   ]
  },
  {
   "cell_type": "code",
   "execution_count": null,
   "metadata": {},
   "outputs": [],
   "source": [
    "list(range(int(dedup_df.total_av.min()),20))\n",
    "dedup_df.total_av.min()"
   ]
  },
  {
   "cell_type": "code",
   "execution_count": null,
   "metadata": {
    "ExecuteTime": {
     "end_time": "2018-05-11T09:33:47.680000Z",
     "start_time": "2018-05-11T09:33:47.020000Z"
    },
    "code_folding": [
     0
    ],
    "extensions": {
     "jupyter_dashboards": {
      "version": 1,
      "views": {
       "grid_default": {
        "col": 4,
        "height": 9,
        "hidden": false,
        "row": 0,
        "width": 4
       },
       "report_default": {
        "hidden": false
       }
      }
     }
    },
    "scrolled": false
   },
   "outputs": [],
   "source": [
    "## Build Dashboard\n",
    "import ipywidgets as widgets\n",
    "\n",
    "origin_select = widgets.SelectMultiple(\n",
    "    options=list(main_origins),\n",
    "    value=list(main_origins),\n",
    "    description='Origins:',\n",
    "    disabled=False,\n",
    ")\n",
    "\n",
    "destination_select = widgets.SelectMultiple(\n",
    "    options=list(main_destinations),\n",
    "    value=list(main_destinations),\n",
    "    description='Destinations:',\n",
    "    disabled=False,\n",
    ")\n",
    "\n",
    "layover_select = widgets.SelectMultiple(\n",
    "    options=list(layovers),\n",
    "    value=list(layovers),\n",
    "    description='Layovers:',\n",
    "    disabled=False,\n",
    ")\n",
    "\n",
    "plot_radio = widgets.RadioButtons(\n",
    "    options=['Origin First', 'Destination First'],\n",
    "    value='Origin First',\n",
    "    description='Plot Order:',\n",
    "    disabled=False\n",
    ")\n",
    "\n",
    "slider_availability = widgets.SelectionSlider(\n",
    "    description='avail',\n",
    "    options=list(range(int(dedup_df.total_av.min()),int(max(dedup_df.total_av.max(), 20)))),\n",
    "#     options=list(range(0,20)),\n",
    "    value=max(int(dedup_df.total_av.min()), 0),\n",
    "    continuous_update=False,\n",
    "    layout=widgets.Layout(width='600px')\n",
    ")\n",
    "        \n",
    "\n",
    "\n",
    "## Date sliders\n",
    "fmt='%Y-%m-%d %I:%M%p'\n",
    "\n",
    "start_date = datetime.strftime(dedup_df.dep_datetime.min() - timedelta(hours=1), fmt)\n",
    "end_date = datetime.strftime(dedup_df.arr_datetime.max() + timedelta(hours=1), fmt)\n",
    "\n",
    "slider_start, slider_end = make_date_sliders(start=start_date, end=end_date, freq=timedelta(minutes=30),fmt=fmt, disp_fmt='%m-%d %I:%M%p')\n",
    "\n",
    "\n",
    "fig = plt.figure()\n",
    "\n",
    "def change_states(change):\n",
    "    \n",
    "    # pp.pprint(change)\n",
    "    if change['name'] == 'value':\n",
    "        \n",
    "        selected_origins = origin_select.value\n",
    "        selected_layovers = layover_select.value\n",
    "        selected_destinations = destination_select.value\n",
    "        \n",
    "        all_flights = dedup_df[dedup_df.dep_datetime > slider_start.value]\n",
    "        all_flights = all_flights[all_flights.arr_datetime < slider_end.value]\n",
    "        all_flights = all_flights[all_flights.total_av >= slider_availability.value]\n",
    "                \n",
    "        first_flights, last_flights = find_first_last(all_flights, selected_origins, selected_layovers, selected_destinations)\n",
    "        \n",
    "        if plot_radio.value == 'Origin First':\n",
    "            if first_flights.shape[0] > 0:\n",
    "                plot_origin(all_flights, first_flights, selected_destinations, fig=fig)\n",
    "            else:\n",
    "                fig.clf()\n",
    "        else:\n",
    "            if last_flights.shape[0] > 0:\n",
    "                plot_destination(all_flights, last_flights, selected_origins, fig=fig)\n",
    "            else:\n",
    "                fig.clf()\n",
    "\n",
    "\n",
    "origin_select.observe(change_states)\n",
    "layover_select.observe(change_states)\n",
    "destination_select.observe(change_states)\n",
    "plot_radio.observe(change_states)\n",
    "slider_start.observe(change_states)\n",
    "slider_end.observe(change_states)\n",
    "slider_availability.observe(change_states)\n",
    "\n",
    "change_states({'name': 'value'})\n",
    "\n",
    "\n",
    "items = [plot_radio, origin_select, layover_select, destination_select]\n",
    "widgets.VBox([widgets.HBox([slider_start, slider_end]), slider_availability, widgets.HBox(items)])\n",
    "\n"
   ]
  },
  {
   "cell_type": "code",
   "execution_count": null,
   "metadata": {
    "collapsed": true
   },
   "outputs": [],
   "source": []
  },
  {
   "cell_type": "code",
   "execution_count": null,
   "metadata": {
    "collapsed": true
   },
   "outputs": [],
   "source": []
  }
 ],
 "metadata": {
  "extensions": {
   "jupyter_dashboards": {
    "activeView": "report_default",
    "version": 1,
    "views": {
     "grid_default": {
      "cellMargin": 10,
      "defaultCellHeight": 20,
      "maxColumns": 12,
      "name": "grid",
      "type": "grid"
     },
     "report_default": {
      "name": "report",
      "type": "report"
     }
    }
   }
  },
  "hide_input": false,
  "kernelspec": {
   "display_name": "Python 3",
   "language": "python",
   "name": "python3"
  },
  "language_info": {
   "codemirror_mode": {
    "name": "ipython",
    "version": 3
   },
   "file_extension": ".py",
   "mimetype": "text/x-python",
   "name": "python",
   "nbconvert_exporter": "python",
   "pygments_lexer": "ipython3",
   "version": "3.6.3"
  },
  "varInspector": {
   "cols": {
    "lenName": 16,
    "lenType": 16,
    "lenVar": 40
   },
   "kernels_config": {
    "python": {
     "delete_cmd_postfix": "",
     "delete_cmd_prefix": "del ",
     "library": "var_list.py",
     "varRefreshCmd": "print(var_dic_list())"
    },
    "r": {
     "delete_cmd_postfix": ") ",
     "delete_cmd_prefix": "rm(",
     "library": "var_list.r",
     "varRefreshCmd": "cat(var_dic_list()) "
    }
   },
   "types_to_exclude": [
    "module",
    "function",
    "builtin_function_or_method",
    "instance",
    "_Feature"
   ],
   "window_display": false
  },
  "widgets": {
   "state": {
    "c7d30eafa6d94ea0a162ef3d2e98741b": {
     "views": [
      {
       "cell_index": 8
      }
     ]
    }
   },
   "version": "1.2.0"
  }
 },
 "nbformat": 4,
 "nbformat_minor": 2
}
